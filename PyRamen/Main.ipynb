{
 "cells": [
  {
   "cell_type": "code",
   "execution_count": 1,
   "metadata": {},
   "outputs": [],
   "source": [
    "from pathlib import Path\n",
    "import csv"
   ]
  },
  {
   "cell_type": "code",
   "execution_count": 2,
   "metadata": {},
   "outputs": [],
   "source": [
    "menu_load = \"menu_data.csv\"\n",
    "sales_load = \"sales_data.csv\""
   ]
  },
  {
   "cell_type": "code",
   "execution_count": 3,
   "metadata": {},
   "outputs": [],
   "source": [
    "menu = []\n",
    "sales = []\n",
    "report = {}"
   ]
  },
  {
   "cell_type": "code",
   "execution_count": 4,
   "metadata": {},
   "outputs": [],
   "source": [
    "with open(menu_load) as menu_data:\n",
    "    csvreader = csv.reader(menu_data, delimiter = ',')\n",
    "    \n",
    "    csv_header = next(csvreader)\n",
    "    \n",
    "    for data in csv.reader(menu_data):\n",
    "        menu.append(data)"
   ]
  },
  {
   "cell_type": "code",
   "execution_count": 5,
   "metadata": {},
   "outputs": [],
   "source": [
    "with open(sales_load) as sales_data:\n",
    "    csvreader = csv.reader(sales_data, delimiter = ',')\n",
    "    \n",
    "    csv_header = next(csvreader)\n",
    "    \n",
    "    for row in csv.reader(sales_data):\n",
    "        sales.append(row)"
   ]
  },
  {
   "cell_type": "code",
   "execution_count": 6,
   "metadata": {},
   "outputs": [],
   "source": [
    "row_count = 0\n",
    "count = 0 \n",
    "revenue = 0\n",
    "cogs = 0\n",
    "profit = 0"
   ]
  },
  {
   "cell_type": "code",
   "execution_count": 7,
   "metadata": {},
   "outputs": [
    {
     "name": "stdout",
     "output_type": "stream",
     "text": [
      "{'spicy miso ramen': {'count': 9239, 'revenue': 110856.0, 'cogs': 46190.0, 'profit': 34010.0}, 'tori paitan ramen': {'count': 9159, 'revenue': 119028.0, 'cogs': 54936.0, 'profit': 40908.0}, 'truffle butter ramen': {'count': 8983, 'revenue': 125748.0, 'cogs': 62874.0, 'profit': 47082.0}, 'tonkotsu ramen': {'count': 9289, 'revenue': 120744.0, 'cogs': 55728.0, 'profit': 40800.0}, 'vegetarian spicy miso': {'count': 9217, 'revenue': 110592.0, 'cogs': 46080.0, 'profit': 34110.0}, 'shio ramen': {'count': 9181, 'revenue': 100980.0, 'cogs': 45900.0, 'profit': 33720.0}, 'miso crab ramen': {'count': 8894, 'revenue': 106680.0, 'cogs': 53340.0, 'profit': 39324.0}, 'nagomi shoyu': {'count': 9133, 'revenue': 100452.0, 'cogs': 45660.0, 'profit': 33300.0}, 'soft-shell miso crab ramen': {'count': 9131, 'revenue': 127820.0, 'cogs': 63910.0, 'profit': 47194.0}, 'burnt garlic tonkotsu ramen': {'count': 9071, 'revenue': 126980.0, 'cogs': 54420.0, 'profit': 40620.0}, 'vegetarian curry + king trumpet mushroom ramen': {'count': 8825, 'revenue': 114712.0, 'cogs': 61768.0, 'profit': 46802.0}}\n"
     ]
    }
   ],
   "source": [
    "for sale in sales:\n",
    "    count = int(sale[3])\n",
    "    sales_item = sale[4]\n",
    "    if sales_item not in report.keys():\n",
    "        report[sales_item] = {\n",
    "            \"count\": count,\n",
    "            \"revenue\": revenue,\n",
    "            \"cogs\": cogs,\n",
    "            \"profit\": profit,\n",
    "        }\n",
    "    for x in menu:\n",
    "        item = x[0]\n",
    "        price = x[3]\n",
    "        cost = x[4]\n",
    "        if sales_item == item:\n",
    "            report[sales_item][\"count\"] += count\n",
    "            report[sales_item][\"revenue\"] += float(price) * count\n",
    "            report[sales_item][\"cogs\"] += float(cost) *count\n",
    "            report[sales_item][\"profit\"] += float(cost)\n",
    "#        else:\n",
    "#            print(f\"{sales_item} does not equal {item}! No Match!\")\n",
    "    row_count += 1        \n",
    "print(report)"
   ]
  },
  {
   "cell_type": "raw",
   "metadata": {},
   "source": [
    "PyRamenHW = \"PyRamenAnalysis.txt\""
   ]
  },
  {
   "cell_type": "code",
   "execution_count": 47,
   "metadata": {},
   "outputs": [],
   "source": [
    "with open(PyRamenHW, \"w\") as data:\n",
    "    data.write(str(report))"
   ]
  },
  {
   "cell_type": "code",
   "execution_count": null,
   "metadata": {},
   "outputs": [],
   "source": []
  },
  {
   "cell_type": "code",
   "execution_count": null,
   "metadata": {},
   "outputs": [],
   "source": []
  },
  {
   "cell_type": "code",
   "execution_count": null,
   "metadata": {},
   "outputs": [],
   "source": []
  },
  {
   "cell_type": "code",
   "execution_count": null,
   "metadata": {},
   "outputs": [],
   "source": []
  },
  {
   "cell_type": "code",
   "execution_count": null,
   "metadata": {},
   "outputs": [],
   "source": []
  },
  {
   "cell_type": "code",
   "execution_count": null,
   "metadata": {},
   "outputs": [],
   "source": []
  },
  {
   "cell_type": "code",
   "execution_count": null,
   "metadata": {},
   "outputs": [],
   "source": []
  }
 ],
 "metadata": {
  "kernelspec": {
   "display_name": "Python 3",
   "language": "python",
   "name": "python3"
  },
  "language_info": {
   "codemirror_mode": {
    "name": "ipython",
    "version": 3
   },
   "file_extension": ".py",
   "mimetype": "text/x-python",
   "name": "python",
   "nbconvert_exporter": "python",
   "pygments_lexer": "ipython3",
   "version": "3.7.9"
  }
 },
 "nbformat": 4,
 "nbformat_minor": 4
}
