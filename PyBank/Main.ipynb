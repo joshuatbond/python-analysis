{
 "cells": [
  {
   "cell_type": "code",
   "execution_count": 1,
   "metadata": {},
   "outputs": [],
   "source": [
    "import csv"
   ]
  },
  {
   "cell_type": "code",
   "execution_count": 2,
   "metadata": {},
   "outputs": [],
   "source": [
    "budget_data = \"budget_data.csv\""
   ]
  },
  {
   "cell_type": "code",
   "execution_count": 3,
   "metadata": {},
   "outputs": [],
   "source": [
    "with open(budget_data) as revenue_data:\n",
    "    reader = csv.reader(revenue_data)\n",
    "    \n",
    "    next(reader)\n",
    "    revenue = []\n",
    "    date = []\n",
    "    rev_change = []\n",
    "    \n",
    "    for row in reader:\n",
    "        date.append(row[0])\n",
    "        revenue.append(float(row[1]))"
   ]
  },
  {
   "cell_type": "code",
   "execution_count": 4,
   "metadata": {},
   "outputs": [],
   "source": [
    "for i in range(1,len(revenue)):\n",
    "    rev_change.append(revenue[i] - revenue[i-1])\n",
    "    avg_rev_change = sum(rev_change)/len(rev_change)\n",
    "    \n",
    "    max_rev_change = max(rev_change)\n",
    "    min_rev_change = min(rev_change)\n",
    "    \n",
    "    max_rev_change_date = str(date[rev_change.index(max(rev_change))])\n",
    "    min_rev_change_date = str(date[rev_change.index(min(rev_change))])"
   ]
  },
  {
   "cell_type": "code",
   "execution_count": 5,
   "metadata": {},
   "outputs": [
    {
     "name": "stdout",
     "output_type": "stream",
     "text": [
      "**Financial Analysis**\n",
      "-----------------------------------\n",
      "Total Months: 86\n",
      "Total Revenue: $ 38382578.0\n",
      "Avereage Change: $ -2315\n",
      "Greatest Increase in Profits: Jan-2012 ($ 1926159.0 )\n",
      "Greatest Decrease in Profits: Aug-2013 ($ -2196167.0 )\n",
      "\n"
     ]
    }
   ],
   "source": [
    "print(\"**Financial Analysis**\")\n",
    "print(\"-----------------------------------\")\n",
    "print(\"Total Months:\", len(date))\n",
    "print(\"Total Revenue: $\", sum(revenue))\n",
    "print(\"Avereage Change: $\", round(avg_rev_change))\n",
    "print(\"Greatest Increase in Profits:\", max_rev_change_date,\"($\", max_rev_change,\")\")\n",
    "print(\"Greatest Decrease in Profits:\", min_rev_change_date,\"($\", min_rev_change,\")\")\n",
    "print()"
   ]
  },
  {
   "cell_type": "code",
   "execution_count": 6,
   "metadata": {},
   "outputs": [],
   "source": [
    "from pathlib import Path"
   ]
  },
  {
   "cell_type": "code",
   "execution_count": 7,
   "metadata": {},
   "outputs": [],
   "source": [
    "outputpath = Path(\"../PyBank/PyBankAnalysis.txt\")"
   ]
  },
  {
   "cell_type": "code",
   "execution_count": 8,
   "metadata": {},
   "outputs": [],
   "source": [
    "with open(outputpath, 'w') as file_output:\n",
    "    file_output.write(\"**Financial Analysis**\\n\")\n",
    "    file_output.write(\"-----------------------------------\\n\")\n",
    "    file_output.write(\"Total Months: 86\\n\")\n",
    "    file_output.write(\"Total Revenue: $ 38382578.0\\n\")\n",
    "    file_output.write(\"Avereage Change: $ -2315\\n\")\n",
    "    file_output.write(\"Greatest Increase in Profits: Jan-2012 ($ 1926159.0 )\\n\")\n",
    "    file_output.write(\"Greatest Decrease in Profits: Aug-2013 ($ -2196167.0 )\")"
   ]
  },
  {
   "cell_type": "code",
   "execution_count": null,
   "metadata": {},
   "outputs": [],
   "source": []
  },
  {
   "cell_type": "code",
   "execution_count": null,
   "metadata": {},
   "outputs": [],
   "source": []
  }
 ],
 "metadata": {
  "kernelspec": {
   "display_name": "Python 3",
   "language": "python",
   "name": "python3"
  },
  "language_info": {
   "codemirror_mode": {
    "name": "ipython",
    "version": 3
   },
   "file_extension": ".py",
   "mimetype": "text/x-python",
   "name": "python",
   "nbconvert_exporter": "python",
   "pygments_lexer": "ipython3",
   "version": "3.7.9"
  }
 },
 "nbformat": 4,
 "nbformat_minor": 4
}
